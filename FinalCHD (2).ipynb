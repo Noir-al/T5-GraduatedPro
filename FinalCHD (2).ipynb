{
 "cells": [
  {
   "cell_type": "markdown",
   "id": "1de7731b",
   "metadata": {},
   "source": [
    "# HEART DISEASE  "
   ]
  },
  {
   "cell_type": "markdown",
   "id": "e43efee1",
   "metadata": {},
   "source": [
    "#### By : Nuwaiyr Alsubaie :)\n"
   ]
  },
  {
   "cell_type": "code",
   "execution_count": 154,
   "id": "287bc767",
   "metadata": {},
   "outputs": [
    {
     "data": {
      "text/html": [
       "<img src=\"Heart2.jpg\" width=\"1000\" height=\"10\"/>"
      ],
      "text/plain": [
       "<IPython.core.display.Image object>"
      ]
     },
     "execution_count": 154,
     "metadata": {},
     "output_type": "execute_result"
    }
   ],
   "source": [
    "from IPython.display import Image\n",
    "Image(url= \"Heart2.jpg\", width=1000, height=10)"
   ]
  },
  {
   "cell_type": "markdown",
   "id": "70b24947",
   "metadata": {},
   "source": [
    "# Introduction"
   ]
  },
  {
   "cell_type": "markdown",
   "id": "403602e0",
   "metadata": {},
   "source": [
    "World Health Organization has estimated 12 million deaths occur worldwide, every year due to Heart diseases. Half the deaths in the United States and other developed countries are due to cardio vascular diseases. The early prognosis of cardiovascular diseases can aid in making decisions on lifestyle changes in high risk patients and in turn reduce the complications. This Project intends to pinpoint the most relevant/risk factors of heart disease as well as predict the overall risk using logistic regression --> This  aims to predict whether patient have 10 year risk of coronary heart disease CHD or not"
   ]
  },
  {
   "cell_type": "markdown",
   "id": "e193b165",
   "metadata": {},
   "source": [
    "# Data"
   ]
  },
  {
   "cell_type": "markdown",
   "id": "89453190",
   "metadata": {},
   "source": [
    "The dataset is publically available on the Kaggle website, and it is from an ongoing cardiovascular study on residents of the town of Framingham . https://www.kaggle.com/christofel04/cardiovascular-study-dataset-predict-heart-disea\n"
   ]
  },
  {
   "cell_type": "markdown",
   "id": "c9eb100b",
   "metadata": {},
   "source": [
    "# ** Data Preparation & Cleaning **\n"
   ]
  },
  {
   "cell_type": "code",
   "execution_count": 155,
   "id": "b92c88dc",
   "metadata": {},
   "outputs": [],
   "source": [
    "import numpy as np\n",
    "import pandas as pd\n",
    "import matplotlib.pyplot as plt\n",
    "import seaborn as sns\n",
    "from sklearn.linear_model import LogisticRegression\n",
    "\n",
    "%matplotlib inline\n",
    "\n",
    "from sklearn.model_selection import train_test_split"
   ]
  },
  {
   "cell_type": "code",
   "execution_count": 156,
   "id": "e9a2b727",
   "metadata": {
    "scrolled": true
   },
   "outputs": [
    {
     "data": {
      "text/html": [
       "<div>\n",
       "<style scoped>\n",
       "    .dataframe tbody tr th:only-of-type {\n",
       "        vertical-align: middle;\n",
       "    }\n",
       "\n",
       "    .dataframe tbody tr th {\n",
       "        vertical-align: top;\n",
       "    }\n",
       "\n",
       "    .dataframe thead th {\n",
       "        text-align: right;\n",
       "    }\n",
       "</style>\n",
       "<table border=\"1\" class=\"dataframe\">\n",
       "  <thead>\n",
       "    <tr style=\"text-align: right;\">\n",
       "      <th></th>\n",
       "      <th>id</th>\n",
       "      <th>age</th>\n",
       "      <th>education</th>\n",
       "      <th>sex</th>\n",
       "      <th>is_smoking</th>\n",
       "      <th>cigsPerDay</th>\n",
       "      <th>BPMeds</th>\n",
       "      <th>prevalentStroke</th>\n",
       "      <th>prevalentHyp</th>\n",
       "      <th>diabetes</th>\n",
       "      <th>totChol</th>\n",
       "      <th>sysBP</th>\n",
       "      <th>diaBP</th>\n",
       "      <th>BMI</th>\n",
       "      <th>heartRate</th>\n",
       "      <th>glucose</th>\n",
       "      <th>TenYearCHD</th>\n",
       "    </tr>\n",
       "  </thead>\n",
       "  <tbody>\n",
       "    <tr>\n",
       "      <th>0</th>\n",
       "      <td>0</td>\n",
       "      <td>64</td>\n",
       "      <td>2.0</td>\n",
       "      <td>F</td>\n",
       "      <td>YES</td>\n",
       "      <td>3.0</td>\n",
       "      <td>0.0</td>\n",
       "      <td>0</td>\n",
       "      <td>0</td>\n",
       "      <td>0</td>\n",
       "      <td>221.0</td>\n",
       "      <td>148.0</td>\n",
       "      <td>85.0</td>\n",
       "      <td>NaN</td>\n",
       "      <td>90.0</td>\n",
       "      <td>80.0</td>\n",
       "      <td>1</td>\n",
       "    </tr>\n",
       "    <tr>\n",
       "      <th>1</th>\n",
       "      <td>1</td>\n",
       "      <td>36</td>\n",
       "      <td>4.0</td>\n",
       "      <td>M</td>\n",
       "      <td>NO</td>\n",
       "      <td>0.0</td>\n",
       "      <td>0.0</td>\n",
       "      <td>0</td>\n",
       "      <td>1</td>\n",
       "      <td>0</td>\n",
       "      <td>212.0</td>\n",
       "      <td>168.0</td>\n",
       "      <td>98.0</td>\n",
       "      <td>29.77</td>\n",
       "      <td>72.0</td>\n",
       "      <td>75.0</td>\n",
       "      <td>0</td>\n",
       "    </tr>\n",
       "    <tr>\n",
       "      <th>2</th>\n",
       "      <td>2</td>\n",
       "      <td>46</td>\n",
       "      <td>1.0</td>\n",
       "      <td>F</td>\n",
       "      <td>YES</td>\n",
       "      <td>10.0</td>\n",
       "      <td>0.0</td>\n",
       "      <td>0</td>\n",
       "      <td>0</td>\n",
       "      <td>0</td>\n",
       "      <td>250.0</td>\n",
       "      <td>116.0</td>\n",
       "      <td>71.0</td>\n",
       "      <td>20.35</td>\n",
       "      <td>88.0</td>\n",
       "      <td>94.0</td>\n",
       "      <td>0</td>\n",
       "    </tr>\n",
       "    <tr>\n",
       "      <th>3</th>\n",
       "      <td>3</td>\n",
       "      <td>50</td>\n",
       "      <td>1.0</td>\n",
       "      <td>M</td>\n",
       "      <td>YES</td>\n",
       "      <td>20.0</td>\n",
       "      <td>0.0</td>\n",
       "      <td>0</td>\n",
       "      <td>1</td>\n",
       "      <td>0</td>\n",
       "      <td>233.0</td>\n",
       "      <td>158.0</td>\n",
       "      <td>88.0</td>\n",
       "      <td>28.26</td>\n",
       "      <td>68.0</td>\n",
       "      <td>94.0</td>\n",
       "      <td>1</td>\n",
       "    </tr>\n",
       "    <tr>\n",
       "      <th>4</th>\n",
       "      <td>4</td>\n",
       "      <td>64</td>\n",
       "      <td>1.0</td>\n",
       "      <td>F</td>\n",
       "      <td>YES</td>\n",
       "      <td>30.0</td>\n",
       "      <td>0.0</td>\n",
       "      <td>0</td>\n",
       "      <td>0</td>\n",
       "      <td>0</td>\n",
       "      <td>241.0</td>\n",
       "      <td>136.5</td>\n",
       "      <td>85.0</td>\n",
       "      <td>26.42</td>\n",
       "      <td>70.0</td>\n",
       "      <td>77.0</td>\n",
       "      <td>0</td>\n",
       "    </tr>\n",
       "    <tr>\n",
       "      <th>5</th>\n",
       "      <td>5</td>\n",
       "      <td>61</td>\n",
       "      <td>3.0</td>\n",
       "      <td>F</td>\n",
       "      <td>NO</td>\n",
       "      <td>0.0</td>\n",
       "      <td>0.0</td>\n",
       "      <td>0</td>\n",
       "      <td>1</td>\n",
       "      <td>0</td>\n",
       "      <td>272.0</td>\n",
       "      <td>182.0</td>\n",
       "      <td>121.0</td>\n",
       "      <td>32.80</td>\n",
       "      <td>85.0</td>\n",
       "      <td>65.0</td>\n",
       "      <td>1</td>\n",
       "    </tr>\n",
       "    <tr>\n",
       "      <th>6</th>\n",
       "      <td>6</td>\n",
       "      <td>61</td>\n",
       "      <td>1.0</td>\n",
       "      <td>M</td>\n",
       "      <td>NO</td>\n",
       "      <td>0.0</td>\n",
       "      <td>0.0</td>\n",
       "      <td>0</td>\n",
       "      <td>1</td>\n",
       "      <td>0</td>\n",
       "      <td>238.0</td>\n",
       "      <td>232.0</td>\n",
       "      <td>136.0</td>\n",
       "      <td>24.83</td>\n",
       "      <td>75.0</td>\n",
       "      <td>79.0</td>\n",
       "      <td>0</td>\n",
       "    </tr>\n",
       "    <tr>\n",
       "      <th>7</th>\n",
       "      <td>7</td>\n",
       "      <td>36</td>\n",
       "      <td>4.0</td>\n",
       "      <td>M</td>\n",
       "      <td>YES</td>\n",
       "      <td>35.0</td>\n",
       "      <td>0.0</td>\n",
       "      <td>0</td>\n",
       "      <td>0</td>\n",
       "      <td>0</td>\n",
       "      <td>295.0</td>\n",
       "      <td>102.0</td>\n",
       "      <td>68.0</td>\n",
       "      <td>28.15</td>\n",
       "      <td>60.0</td>\n",
       "      <td>63.0</td>\n",
       "      <td>0</td>\n",
       "    </tr>\n",
       "    <tr>\n",
       "      <th>8</th>\n",
       "      <td>8</td>\n",
       "      <td>41</td>\n",
       "      <td>2.0</td>\n",
       "      <td>F</td>\n",
       "      <td>YES</td>\n",
       "      <td>20.0</td>\n",
       "      <td>NaN</td>\n",
       "      <td>0</td>\n",
       "      <td>0</td>\n",
       "      <td>0</td>\n",
       "      <td>220.0</td>\n",
       "      <td>126.0</td>\n",
       "      <td>78.0</td>\n",
       "      <td>20.70</td>\n",
       "      <td>86.0</td>\n",
       "      <td>79.0</td>\n",
       "      <td>0</td>\n",
       "    </tr>\n",
       "    <tr>\n",
       "      <th>9</th>\n",
       "      <td>9</td>\n",
       "      <td>55</td>\n",
       "      <td>2.0</td>\n",
       "      <td>F</td>\n",
       "      <td>NO</td>\n",
       "      <td>0.0</td>\n",
       "      <td>0.0</td>\n",
       "      <td>0</td>\n",
       "      <td>1</td>\n",
       "      <td>0</td>\n",
       "      <td>326.0</td>\n",
       "      <td>144.0</td>\n",
       "      <td>81.0</td>\n",
       "      <td>25.71</td>\n",
       "      <td>85.0</td>\n",
       "      <td>NaN</td>\n",
       "      <td>0</td>\n",
       "    </tr>\n",
       "  </tbody>\n",
       "</table>\n",
       "</div>"
      ],
      "text/plain": [
       "   id  age  education sex is_smoking  cigsPerDay  BPMeds  prevalentStroke  \\\n",
       "0   0   64        2.0   F        YES         3.0     0.0                0   \n",
       "1   1   36        4.0   M         NO         0.0     0.0                0   \n",
       "2   2   46        1.0   F        YES        10.0     0.0                0   \n",
       "3   3   50        1.0   M        YES        20.0     0.0                0   \n",
       "4   4   64        1.0   F        YES        30.0     0.0                0   \n",
       "5   5   61        3.0   F         NO         0.0     0.0                0   \n",
       "6   6   61        1.0   M         NO         0.0     0.0                0   \n",
       "7   7   36        4.0   M        YES        35.0     0.0                0   \n",
       "8   8   41        2.0   F        YES        20.0     NaN                0   \n",
       "9   9   55        2.0   F         NO         0.0     0.0                0   \n",
       "\n",
       "   prevalentHyp  diabetes  totChol  sysBP  diaBP    BMI  heartRate  glucose  \\\n",
       "0             0         0    221.0  148.0   85.0    NaN       90.0     80.0   \n",
       "1             1         0    212.0  168.0   98.0  29.77       72.0     75.0   \n",
       "2             0         0    250.0  116.0   71.0  20.35       88.0     94.0   \n",
       "3             1         0    233.0  158.0   88.0  28.26       68.0     94.0   \n",
       "4             0         0    241.0  136.5   85.0  26.42       70.0     77.0   \n",
       "5             1         0    272.0  182.0  121.0  32.80       85.0     65.0   \n",
       "6             1         0    238.0  232.0  136.0  24.83       75.0     79.0   \n",
       "7             0         0    295.0  102.0   68.0  28.15       60.0     63.0   \n",
       "8             0         0    220.0  126.0   78.0  20.70       86.0     79.0   \n",
       "9             1         0    326.0  144.0   81.0  25.71       85.0      NaN   \n",
       "\n",
       "   TenYearCHD  \n",
       "0           1  \n",
       "1           0  \n",
       "2           0  \n",
       "3           1  \n",
       "4           0  \n",
       "5           1  \n",
       "6           0  \n",
       "7           0  \n",
       "8           0  \n",
       "9           0  "
      ]
     },
     "execution_count": 156,
     "metadata": {},
     "output_type": "execute_result"
    }
   ],
   "source": [
    "heart= pd.read_csv('train.csv')\n",
    "heart.head(10)"
   ]
  },
  {
   "cell_type": "raw",
   "id": "e53a3dd9",
   "metadata": {},
   "source": [
    "#features Description :#\n",
    "Demographic:\\n\n",
    "• Sex: male or female(\"M\" or \"F\")\n",
    "• Age: Age of the patient;(Continuous - Although the recorded ages have been truncated to whole numbers, the concept of age is continuous)\n",
    "Behavioral\n",
    "• is_smoking: whether or not the patient is a current smoker (\"YES\" or \"NO\")\n",
    "• Cigs Per Day: the number of cigarettes that the person smoked on average in one day.(can be considered continuous as one can have any number of cigarettes, even half a cigarette.)\n",
    "Medical( history)\n",
    "• BP Meds: whether or not the patient was on blood pressure medication (Nominal)\n",
    "• Prevalent Stroke: whether or not the patient had previously had a stroke (Nominal)\n",
    "• Prevalent Hyp: whether or not the patient was hypertensive (Nominal)\n",
    "• Diabetes: whether or not the patient had diabetes (Nominal)\n",
    "Medical(current)\n",
    "• Tot Chol: total cholesterol level (Continuous)\n",
    "• Sys BP: systolic blood pressure (Continuous)\n",
    "• Dia BP: diastolic blood pressure (Continuous)\n",
    "• BMI: Body Mass Index (Continuous)\n",
    "• Heart Rate: heart rate (Continuous - In medical research, variables such as heart rate though in fact discrete, yet are considered continuous because of large number of possible values.)\n",
    "• Glucose: glucose level (Continuous)\n",
    "Predict variable (desired target)\n",
    "• 10 year risk of coronary heart disease CHD(binary: “1”, means “Yes”, “0” means “No”)\n",
    "\n"
   ]
  },
  {
   "cell_type": "markdown",
   "id": "f8d106a1",
   "metadata": {},
   "source": [
    "# ** EDA **\n"
   ]
  },
  {
   "cell_type": "code",
   "execution_count": 157,
   "id": "d7eca040",
   "metadata": {
    "scrolled": true
   },
   "outputs": [
    {
     "data": {
      "text/html": [
       "<div>\n",
       "<style scoped>\n",
       "    .dataframe tbody tr th:only-of-type {\n",
       "        vertical-align: middle;\n",
       "    }\n",
       "\n",
       "    .dataframe tbody tr th {\n",
       "        vertical-align: top;\n",
       "    }\n",
       "\n",
       "    .dataframe thead th {\n",
       "        text-align: right;\n",
       "    }\n",
       "</style>\n",
       "<table border=\"1\" class=\"dataframe\">\n",
       "  <thead>\n",
       "    <tr style=\"text-align: right;\">\n",
       "      <th></th>\n",
       "      <th>age</th>\n",
       "      <th>sex</th>\n",
       "      <th>is_smoking</th>\n",
       "      <th>cigsPerDay</th>\n",
       "      <th>BPMeds</th>\n",
       "      <th>prevalentStroke</th>\n",
       "      <th>prevalentHyp</th>\n",
       "      <th>diabetes</th>\n",
       "      <th>totChol</th>\n",
       "      <th>sysBP</th>\n",
       "      <th>diaBP</th>\n",
       "      <th>BMI</th>\n",
       "      <th>heartRate</th>\n",
       "      <th>glucose</th>\n",
       "      <th>TenYearCHD</th>\n",
       "    </tr>\n",
       "  </thead>\n",
       "  <tbody>\n",
       "    <tr>\n",
       "      <th>0</th>\n",
       "      <td>64</td>\n",
       "      <td>F</td>\n",
       "      <td>YES</td>\n",
       "      <td>3.0</td>\n",
       "      <td>0.0</td>\n",
       "      <td>0</td>\n",
       "      <td>0</td>\n",
       "      <td>0</td>\n",
       "      <td>221.0</td>\n",
       "      <td>148.0</td>\n",
       "      <td>85.0</td>\n",
       "      <td>NaN</td>\n",
       "      <td>90.0</td>\n",
       "      <td>80.0</td>\n",
       "      <td>1</td>\n",
       "    </tr>\n",
       "    <tr>\n",
       "      <th>1</th>\n",
       "      <td>36</td>\n",
       "      <td>M</td>\n",
       "      <td>NO</td>\n",
       "      <td>0.0</td>\n",
       "      <td>0.0</td>\n",
       "      <td>0</td>\n",
       "      <td>1</td>\n",
       "      <td>0</td>\n",
       "      <td>212.0</td>\n",
       "      <td>168.0</td>\n",
       "      <td>98.0</td>\n",
       "      <td>29.77</td>\n",
       "      <td>72.0</td>\n",
       "      <td>75.0</td>\n",
       "      <td>0</td>\n",
       "    </tr>\n",
       "    <tr>\n",
       "      <th>2</th>\n",
       "      <td>46</td>\n",
       "      <td>F</td>\n",
       "      <td>YES</td>\n",
       "      <td>10.0</td>\n",
       "      <td>0.0</td>\n",
       "      <td>0</td>\n",
       "      <td>0</td>\n",
       "      <td>0</td>\n",
       "      <td>250.0</td>\n",
       "      <td>116.0</td>\n",
       "      <td>71.0</td>\n",
       "      <td>20.35</td>\n",
       "      <td>88.0</td>\n",
       "      <td>94.0</td>\n",
       "      <td>0</td>\n",
       "    </tr>\n",
       "    <tr>\n",
       "      <th>3</th>\n",
       "      <td>50</td>\n",
       "      <td>M</td>\n",
       "      <td>YES</td>\n",
       "      <td>20.0</td>\n",
       "      <td>0.0</td>\n",
       "      <td>0</td>\n",
       "      <td>1</td>\n",
       "      <td>0</td>\n",
       "      <td>233.0</td>\n",
       "      <td>158.0</td>\n",
       "      <td>88.0</td>\n",
       "      <td>28.26</td>\n",
       "      <td>68.0</td>\n",
       "      <td>94.0</td>\n",
       "      <td>1</td>\n",
       "    </tr>\n",
       "    <tr>\n",
       "      <th>4</th>\n",
       "      <td>64</td>\n",
       "      <td>F</td>\n",
       "      <td>YES</td>\n",
       "      <td>30.0</td>\n",
       "      <td>0.0</td>\n",
       "      <td>0</td>\n",
       "      <td>0</td>\n",
       "      <td>0</td>\n",
       "      <td>241.0</td>\n",
       "      <td>136.5</td>\n",
       "      <td>85.0</td>\n",
       "      <td>26.42</td>\n",
       "      <td>70.0</td>\n",
       "      <td>77.0</td>\n",
       "      <td>0</td>\n",
       "    </tr>\n",
       "  </tbody>\n",
       "</table>\n",
       "</div>"
      ],
      "text/plain": [
       "   age sex is_smoking  cigsPerDay  BPMeds  prevalentStroke  prevalentHyp  \\\n",
       "0   64   F        YES         3.0     0.0                0             0   \n",
       "1   36   M         NO         0.0     0.0                0             1   \n",
       "2   46   F        YES        10.0     0.0                0             0   \n",
       "3   50   M        YES        20.0     0.0                0             1   \n",
       "4   64   F        YES        30.0     0.0                0             0   \n",
       "\n",
       "   diabetes  totChol  sysBP  diaBP    BMI  heartRate  glucose  TenYearCHD  \n",
       "0         0    221.0  148.0   85.0    NaN       90.0     80.0           1  \n",
       "1         0    212.0  168.0   98.0  29.77       72.0     75.0           0  \n",
       "2         0    250.0  116.0   71.0  20.35       88.0     94.0           0  \n",
       "3         0    233.0  158.0   88.0  28.26       68.0     94.0           1  \n",
       "4         0    241.0  136.5   85.0  26.42       70.0     77.0           0  "
      ]
     },
     "execution_count": 157,
     "metadata": {},
     "output_type": "execute_result"
    }
   ],
   "source": [
    "heart.drop(['id','education'] , axis='columns', inplace=True)#uncessry\n",
    "heart.head()"
   ]
  },
  {
   "cell_type": "code",
   "execution_count": 158,
   "id": "90eeda2e",
   "metadata": {},
   "outputs": [
    {
     "data": {
      "image/png": "[encoded data removed]",
      "text/plain": [
       "<Figure size 432x432 with 4 Axes>"
      ]
     },
     "metadata": {
      "needs_background": "light"
     },
     "output_type": "display_data"
    }
   ],
   "source": [
    "g = sns.FacetGrid(heart, col='TenYearCHD', row='sex', margin_titles=True)\n",
    "g.map(plt.hist, 'age', color='red')\n",
    "plt.subplots_adjust(top=0.9)\n",
    "g.fig.suptitle('Patients  by Gender and Age');"
   ]
  },
  {
   "cell_type": "markdown",
   "id": "7717116d",
   "metadata": {},
   "source": [
    "### Feature Engineering  "
   ]
  },
  {
   "cell_type": "code",
   "execution_count": 159,
   "id": "d13d4aa5",
   "metadata": {},
   "outputs": [
    {
     "data": {
      "text/plain": [
       "0    2547\n",
       "1     457\n",
       "Name: TenYearCHD, dtype: int64"
      ]
     },
     "execution_count": 159,
     "metadata": {},
     "output_type": "execute_result"
    }
   ],
   "source": [
    "df.TenYearCHD.value_counts()#unbalanced !!"
   ]
  },
  {
   "cell_type": "code",
   "execution_count": 160,
   "id": "ee971063",
   "metadata": {},
   "outputs": [
    {
     "data": {
      "text/html": [
       "<div>\n",
       "<style scoped>\n",
       "    .dataframe tbody tr th:only-of-type {\n",
       "        vertical-align: middle;\n",
       "    }\n",
       "\n",
       "    .dataframe tbody tr th {\n",
       "        vertical-align: top;\n",
       "    }\n",
       "\n",
       "    .dataframe thead th {\n",
       "        text-align: right;\n",
       "    }\n",
       "</style>\n",
       "<table border=\"1\" class=\"dataframe\">\n",
       "  <thead>\n",
       "    <tr style=\"text-align: right;\">\n",
       "      <th></th>\n",
       "      <th>age</th>\n",
       "      <th>cigsPerDay</th>\n",
       "      <th>BPMeds</th>\n",
       "      <th>prevalentStroke</th>\n",
       "      <th>prevalentHyp</th>\n",
       "      <th>diabetes</th>\n",
       "      <th>totChol</th>\n",
       "      <th>sysBP</th>\n",
       "      <th>diaBP</th>\n",
       "      <th>BMI</th>\n",
       "      <th>heartRate</th>\n",
       "      <th>glucose</th>\n",
       "      <th>TenYearCHD</th>\n",
       "      <th>sex</th>\n",
       "      <th>is_smoking</th>\n",
       "    </tr>\n",
       "  </thead>\n",
       "  <tbody>\n",
       "    <tr>\n",
       "      <th>0</th>\n",
       "      <td>64</td>\n",
       "      <td>3.0</td>\n",
       "      <td>0.0</td>\n",
       "      <td>0</td>\n",
       "      <td>0</td>\n",
       "      <td>0</td>\n",
       "      <td>221.0</td>\n",
       "      <td>148.0</td>\n",
       "      <td>85.0</td>\n",
       "      <td>NaN</td>\n",
       "      <td>90.0</td>\n",
       "      <td>80.0</td>\n",
       "      <td>1</td>\n",
       "      <td>0</td>\n",
       "      <td>1</td>\n",
       "    </tr>\n",
       "    <tr>\n",
       "      <th>1</th>\n",
       "      <td>36</td>\n",
       "      <td>0.0</td>\n",
       "      <td>0.0</td>\n",
       "      <td>0</td>\n",
       "      <td>1</td>\n",
       "      <td>0</td>\n",
       "      <td>212.0</td>\n",
       "      <td>168.0</td>\n",
       "      <td>98.0</td>\n",
       "      <td>29.77</td>\n",
       "      <td>72.0</td>\n",
       "      <td>75.0</td>\n",
       "      <td>0</td>\n",
       "      <td>1</td>\n",
       "      <td>0</td>\n",
       "    </tr>\n",
       "    <tr>\n",
       "      <th>2</th>\n",
       "      <td>46</td>\n",
       "      <td>10.0</td>\n",
       "      <td>0.0</td>\n",
       "      <td>0</td>\n",
       "      <td>0</td>\n",
       "      <td>0</td>\n",
       "      <td>250.0</td>\n",
       "      <td>116.0</td>\n",
       "      <td>71.0</td>\n",
       "      <td>20.35</td>\n",
       "      <td>88.0</td>\n",
       "      <td>94.0</td>\n",
       "      <td>0</td>\n",
       "      <td>0</td>\n",
       "      <td>1</td>\n",
       "    </tr>\n",
       "    <tr>\n",
       "      <th>3</th>\n",
       "      <td>50</td>\n",
       "      <td>20.0</td>\n",
       "      <td>0.0</td>\n",
       "      <td>0</td>\n",
       "      <td>1</td>\n",
       "      <td>0</td>\n",
       "      <td>233.0</td>\n",
       "      <td>158.0</td>\n",
       "      <td>88.0</td>\n",
       "      <td>28.26</td>\n",
       "      <td>68.0</td>\n",
       "      <td>94.0</td>\n",
       "      <td>1</td>\n",
       "      <td>1</td>\n",
       "      <td>1</td>\n",
       "    </tr>\n",
       "    <tr>\n",
       "      <th>4</th>\n",
       "      <td>64</td>\n",
       "      <td>30.0</td>\n",
       "      <td>0.0</td>\n",
       "      <td>0</td>\n",
       "      <td>0</td>\n",
       "      <td>0</td>\n",
       "      <td>241.0</td>\n",
       "      <td>136.5</td>\n",
       "      <td>85.0</td>\n",
       "      <td>26.42</td>\n",
       "      <td>70.0</td>\n",
       "      <td>77.0</td>\n",
       "      <td>0</td>\n",
       "      <td>0</td>\n",
       "      <td>1</td>\n",
       "    </tr>\n",
       "  </tbody>\n",
       "</table>\n",
       "</div>"
      ],
      "text/plain": [
       "   age  cigsPerDay  BPMeds  prevalentStroke  prevalentHyp  diabetes  totChol  \\\n",
       "0   64         3.0     0.0                0             0         0    221.0   \n",
       "1   36         0.0     0.0                0             1         0    212.0   \n",
       "2   46        10.0     0.0                0             0         0    250.0   \n",
       "3   50        20.0     0.0                0             1         0    233.0   \n",
       "4   64        30.0     0.0                0             0         0    241.0   \n",
       "\n",
       "   sysBP  diaBP    BMI  heartRate  glucose  TenYearCHD  sex  is_smoking  \n",
       "0  148.0   85.0    NaN       90.0     80.0           1    0           1  \n",
       "1  168.0   98.0  29.77       72.0     75.0           0    1           0  \n",
       "2  116.0   71.0  20.35       88.0     94.0           0    0           1  \n",
       "3  158.0   88.0  28.26       68.0     94.0           1    1           1  \n",
       "4  136.5   85.0  26.42       70.0     77.0           0    0           1  "
      ]
     },
     "execution_count": 160,
     "metadata": {},
     "output_type": "execute_result"
    }
   ],
   "source": [
    "h2 = pd.get_dummies(heart,\n",
    "                   columns = ['sex', 'is_smoking'])\n",
    "h2.drop(['sex_F', 'is_smoking_NO'], axis=1,inplace=True)\n",
    "h2.rename(columns = {'sex_M': 'sex', 'is_smoking_YES': 'is_smoking'}, inplace=True)\n",
    "\n",
    "h2.head()"
   ]
  },
  {
   "cell_type": "code",
   "execution_count": 161,
   "id": "2ee653b2",
   "metadata": {},
   "outputs": [
    {
     "data": {
      "text/plain": [
       "age                0\n",
       "cigsPerDay         0\n",
       "BPMeds             0\n",
       "prevalentStroke    0\n",
       "prevalentHyp       0\n",
       "diabetes           0\n",
       "totChol            0\n",
       "sysBP              0\n",
       "diaBP              0\n",
       "BMI                0\n",
       "heartRate          0\n",
       "glucose            0\n",
       "TenYearCHD         0\n",
       "sex                0\n",
       "is_smoking         0\n",
       "dtype: int64"
      ]
     },
     "execution_count": 161,
     "metadata": {},
     "output_type": "execute_result"
    }
   ],
   "source": [
    "df = h2.dropna(how='any',axis=0)\n",
    "df.isnull().sum()\n"
   ]
  },
  {
   "cell_type": "markdown",
   "id": "d797f2e0",
   "metadata": {},
   "source": [
    "### Statistical Summary:"
   ]
  },
  {
   "cell_type": "code",
   "execution_count": 162,
   "id": "dd428a8f",
   "metadata": {},
   "outputs": [
    {
     "data": {
      "text/html": [
       "<div>\n",
       "<style scoped>\n",
       "    .dataframe tbody tr th:only-of-type {\n",
       "        vertical-align: middle;\n",
       "    }\n",
       "\n",
       "    .dataframe tbody tr th {\n",
       "        vertical-align: top;\n",
       "    }\n",
       "\n",
       "    .dataframe thead th {\n",
       "        text-align: right;\n",
       "    }\n",
       "</style>\n",
       "<table border=\"1\" class=\"dataframe\">\n",
       "  <thead>\n",
       "    <tr style=\"text-align: right;\">\n",
       "      <th></th>\n",
       "      <th>age</th>\n",
       "      <th>cigsPerDay</th>\n",
       "      <th>BPMeds</th>\n",
       "      <th>prevalentStroke</th>\n",
       "      <th>prevalentHyp</th>\n",
       "      <th>diabetes</th>\n",
       "      <th>totChol</th>\n",
       "      <th>sysBP</th>\n",
       "      <th>diaBP</th>\n",
       "      <th>BMI</th>\n",
       "      <th>heartRate</th>\n",
       "      <th>glucose</th>\n",
       "      <th>TenYearCHD</th>\n",
       "      <th>sex</th>\n",
       "      <th>is_smoking</th>\n",
       "    </tr>\n",
       "  </thead>\n",
       "  <tbody>\n",
       "    <tr>\n",
       "      <th>count</th>\n",
       "      <td>3004.000000</td>\n",
       "      <td>3004.000000</td>\n",
       "      <td>3004.000000</td>\n",
       "      <td>3004.000000</td>\n",
       "      <td>3004.000000</td>\n",
       "      <td>3004.000000</td>\n",
       "      <td>3004.000000</td>\n",
       "      <td>3004.000000</td>\n",
       "      <td>3004.000000</td>\n",
       "      <td>3004.000000</td>\n",
       "      <td>3004.000000</td>\n",
       "      <td>3004.000000</td>\n",
       "      <td>3004.000000</td>\n",
       "      <td>3004.000000</td>\n",
       "      <td>3004.000000</td>\n",
       "    </tr>\n",
       "    <tr>\n",
       "      <th>mean</th>\n",
       "      <td>49.521305</td>\n",
       "      <td>9.078562</td>\n",
       "      <td>0.030293</td>\n",
       "      <td>0.005992</td>\n",
       "      <td>0.314913</td>\n",
       "      <td>0.027297</td>\n",
       "      <td>237.222370</td>\n",
       "      <td>132.591711</td>\n",
       "      <td>82.923103</td>\n",
       "      <td>25.824041</td>\n",
       "      <td>75.816911</td>\n",
       "      <td>81.993009</td>\n",
       "      <td>0.152130</td>\n",
       "      <td>0.448402</td>\n",
       "      <td>0.492676</td>\n",
       "    </tr>\n",
       "    <tr>\n",
       "      <th>std</th>\n",
       "      <td>8.595076</td>\n",
       "      <td>11.890855</td>\n",
       "      <td>0.171421</td>\n",
       "      <td>0.077189</td>\n",
       "      <td>0.464559</td>\n",
       "      <td>0.162974</td>\n",
       "      <td>45.267516</td>\n",
       "      <td>22.270882</td>\n",
       "      <td>12.038348</td>\n",
       "      <td>4.121130</td>\n",
       "      <td>11.937110</td>\n",
       "      <td>24.125814</td>\n",
       "      <td>0.359207</td>\n",
       "      <td>0.497413</td>\n",
       "      <td>0.500030</td>\n",
       "    </tr>\n",
       "    <tr>\n",
       "      <th>min</th>\n",
       "      <td>32.000000</td>\n",
       "      <td>0.000000</td>\n",
       "      <td>0.000000</td>\n",
       "      <td>0.000000</td>\n",
       "      <td>0.000000</td>\n",
       "      <td>0.000000</td>\n",
       "      <td>113.000000</td>\n",
       "      <td>83.500000</td>\n",
       "      <td>48.000000</td>\n",
       "      <td>15.960000</td>\n",
       "      <td>45.000000</td>\n",
       "      <td>40.000000</td>\n",
       "      <td>0.000000</td>\n",
       "      <td>0.000000</td>\n",
       "      <td>0.000000</td>\n",
       "    </tr>\n",
       "    <tr>\n",
       "      <th>25%</th>\n",
       "      <td>42.000000</td>\n",
       "      <td>0.000000</td>\n",
       "      <td>0.000000</td>\n",
       "      <td>0.000000</td>\n",
       "      <td>0.000000</td>\n",
       "      <td>0.000000</td>\n",
       "      <td>206.000000</td>\n",
       "      <td>117.000000</td>\n",
       "      <td>74.500000</td>\n",
       "      <td>23.057500</td>\n",
       "      <td>68.000000</td>\n",
       "      <td>71.000000</td>\n",
       "      <td>0.000000</td>\n",
       "      <td>0.000000</td>\n",
       "      <td>0.000000</td>\n",
       "    </tr>\n",
       "    <tr>\n",
       "      <th>50%</th>\n",
       "      <td>49.000000</td>\n",
       "      <td>0.000000</td>\n",
       "      <td>0.000000</td>\n",
       "      <td>0.000000</td>\n",
       "      <td>0.000000</td>\n",
       "      <td>0.000000</td>\n",
       "      <td>234.000000</td>\n",
       "      <td>128.500000</td>\n",
       "      <td>82.000000</td>\n",
       "      <td>25.410000</td>\n",
       "      <td>75.000000</td>\n",
       "      <td>78.000000</td>\n",
       "      <td>0.000000</td>\n",
       "      <td>0.000000</td>\n",
       "      <td>0.000000</td>\n",
       "    </tr>\n",
       "    <tr>\n",
       "      <th>75%</th>\n",
       "      <td>56.000000</td>\n",
       "      <td>20.000000</td>\n",
       "      <td>0.000000</td>\n",
       "      <td>0.000000</td>\n",
       "      <td>1.000000</td>\n",
       "      <td>0.000000</td>\n",
       "      <td>265.000000</td>\n",
       "      <td>144.000000</td>\n",
       "      <td>90.000000</td>\n",
       "      <td>28.072500</td>\n",
       "      <td>83.000000</td>\n",
       "      <td>87.000000</td>\n",
       "      <td>0.000000</td>\n",
       "      <td>1.000000</td>\n",
       "      <td>1.000000</td>\n",
       "    </tr>\n",
       "    <tr>\n",
       "      <th>max</th>\n",
       "      <td>70.000000</td>\n",
       "      <td>70.000000</td>\n",
       "      <td>1.000000</td>\n",
       "      <td>1.000000</td>\n",
       "      <td>1.000000</td>\n",
       "      <td>1.000000</td>\n",
       "      <td>696.000000</td>\n",
       "      <td>295.000000</td>\n",
       "      <td>142.500000</td>\n",
       "      <td>56.800000</td>\n",
       "      <td>143.000000</td>\n",
       "      <td>394.000000</td>\n",
       "      <td>1.000000</td>\n",
       "      <td>1.000000</td>\n",
       "      <td>1.000000</td>\n",
       "    </tr>\n",
       "  </tbody>\n",
       "</table>\n",
       "</div>"
      ],
      "text/plain": [
       "               age   cigsPerDay       BPMeds  prevalentStroke  prevalentHyp  \\\n",
       "count  3004.000000  3004.000000  3004.000000      3004.000000   3004.000000   \n",
       "mean     49.521305     9.078562     0.030293         0.005992      0.314913   \n",
       "std       8.595076    11.890855     0.171421         0.077189      0.464559   \n",
       "min      32.000000     0.000000     0.000000         0.000000      0.000000   \n",
       "25%      42.000000     0.000000     0.000000         0.000000      0.000000   \n",
       "50%      49.000000     0.000000     0.000000         0.000000      0.000000   \n",
       "75%      56.000000    20.000000     0.000000         0.000000      1.000000   \n",
       "max      70.000000    70.000000     1.000000         1.000000      1.000000   \n",
       "\n",
       "          diabetes      totChol        sysBP        diaBP          BMI  \\\n",
       "count  3004.000000  3004.000000  3004.000000  3004.000000  3004.000000   \n",
       "mean      0.027297   237.222370   132.591711    82.923103    25.824041   \n",
       "std       0.162974    45.267516    22.270882    12.038348     4.121130   \n",
       "min       0.000000   113.000000    83.500000    48.000000    15.960000   \n",
       "25%       0.000000   206.000000   117.000000    74.500000    23.057500   \n",
       "50%       0.000000   234.000000   128.500000    82.000000    25.410000   \n",
       "75%       0.000000   265.000000   144.000000    90.000000    28.072500   \n",
       "max       1.000000   696.000000   295.000000   142.500000    56.800000   \n",
       "\n",
       "         heartRate      glucose   TenYearCHD          sex   is_smoking  \n",
       "count  3004.000000  3004.000000  3004.000000  3004.000000  3004.000000  \n",
       "mean     75.816911    81.993009     0.152130     0.448402     0.492676  \n",
       "std      11.937110    24.125814     0.359207     0.497413     0.500030  \n",
       "min      45.000000    40.000000     0.000000     0.000000     0.000000  \n",
       "25%      68.000000    71.000000     0.000000     0.000000     0.000000  \n",
       "50%      75.000000    78.000000     0.000000     0.000000     0.000000  \n",
       "75%      83.000000    87.000000     0.000000     1.000000     1.000000  \n",
       "max     143.000000   394.000000     1.000000     1.000000     1.000000  "
      ]
     },
     "execution_count": 162,
     "metadata": {},
     "output_type": "execute_result"
    }
   ],
   "source": [
    "df.describe()"
   ]
  },
  {
   "cell_type": "code",
   "execution_count": 163,
   "id": "407f1f0b",
   "metadata": {},
   "outputs": [
    {
     "data": {
      "text/plain": [
       "<AxesSubplot:>"
      ]
     },
     "execution_count": 163,
     "metadata": {},
     "output_type": "execute_result"
    },
    {
     "data": {
      "image/png": "[encoded data removed]",
      "text/plain": [
       "<Figure size 936x360 with 2 Axes>"
      ]
     },
     "metadata": {
      "needs_background": "light"
     },
     "output_type": "display_data"
    }
   ],
   "source": [
    "plt.figure(figsize=[13,5])\n",
    "corr = df.corr()\n",
    "sns.heatmap(corr, cmap=\"Blues\", annot=True)\n"
   ]
  },
  {
   "cell_type": "code",
   "execution_count": 164,
   "id": "41ba7461",
   "metadata": {},
   "outputs": [
    {
     "data": {
      "image/png": "[encoded data removed]",
      "text/plain": [
       "<Figure size 360x360 with 1 Axes>"
      ]
     },
     "metadata": {
      "needs_background": "light"
     },
     "output_type": "display_data"
    }
   ],
   "source": [
    "\n",
    "g = sns.relplot(x=\"age\", y=\"totChol\", kind=\"line\", data=df)\n"
   ]
  },
  {
   "cell_type": "code",
   "execution_count": 165,
   "id": "3f40741b",
   "metadata": {},
   "outputs": [
    {
     "data": {
      "text/plain": [
       "34    13\n",
       "33     4\n",
       "32     1\n",
       "Name: age, dtype: int64"
      ]
     },
     "execution_count": 165,
     "metadata": {},
     "output_type": "execute_result"
    }
   ],
   "source": [
    "mask = (df['age']< 35) & (df['totChol'] > 160)\n",
    "new=df[mask]\n",
    "new['age'].value_counts()#risk of CHD inherent "
   ]
  },
  {
   "cell_type": "markdown",
   "id": "b0b7c3f6",
   "metadata": {},
   "source": [
    "#  ** Modeling & Testing  **"
   ]
  },
  {
   "cell_type": "code",
   "execution_count": 166,
   "id": "5d8a1bca",
   "metadata": {},
   "outputs": [
    {
     "data": {
      "text/plain": [
       "(3004, 15)"
      ]
     },
     "execution_count": 166,
     "metadata": {},
     "output_type": "execute_result"
    }
   ],
   "source": [
    "df.shape"
   ]
  },
  {
   "cell_type": "code",
   "execution_count": 167,
   "id": "80c4bd1f",
   "metadata": {},
   "outputs": [],
   "source": [
    "#oversampling \n",
    "from imblearn.over_sampling import SMOTE\n"
   ]
  },
  {
   "cell_type": "code",
   "execution_count": 168,
   "id": "3a31a501",
   "metadata": {},
   "outputs": [],
   "source": [
    "oversampling=SMOTE()\n",
    "X,y=oversampling.fit_resample(df.drop(['TenYearCHD'], axis = 1),df['TenYearCHD'])#"
   ]
  },
  {
   "cell_type": "code",
   "execution_count": 169,
   "id": "43032a8b",
   "metadata": {},
   "outputs": [
    {
     "data": {
      "text/plain": [
       "(5094, 14)"
      ]
     },
     "execution_count": 169,
     "metadata": {},
     "output_type": "execute_result"
    }
   ],
   "source": [
    "X.shape\n"
   ]
  },
  {
   "cell_type": "code",
   "execution_count": 170,
   "id": "e6cdc528",
   "metadata": {},
   "outputs": [
    {
     "name": "stdout",
     "output_type": "stream",
     "text": [
      "0.6673387096774194\n",
      "0.6490196078431372\n"
     ]
    }
   ],
   "source": [
    "# modeling imports\n",
    "from sklearn.linear_model import LogisticRegression\n",
    "from sklearn.model_selection import train_test_split\n",
    "from sklearn.model_selection import cross_val_score\n",
    "from sklearn.preprocessing import StandardScaler\n",
    "from sklearn import metrics\n",
    "\n",
    "\n",
    "std_scale = StandardScaler()\n",
    "X_train, X_test, y_train, y_test = train_test_split(X,y,\n",
    "                                                    test_size = 0.2, random_state=42)\n",
    "X_train_scaled = std_scale.fit_transform(X_train)#df.drop(['TenYearCHD'], axis = 1)\n",
    "lm = LogisticRegression(C=1000)\n",
    "\n",
    "lm.fit(X_train_scaled ,y_train)\n",
    "lm.score(X_train_scaled ,y_train)\n",
    "X_test_scaled = std_scale.fit_transform(X_test)\n",
    "y_pre=lm.predict(X_test_scaled)\n",
    "print(metrics.recall_score(y_test,y_pre))\n",
    "print(metrics.f1_score(y_test,y_pre))"
   ]
  },
  {
   "cell_type": "markdown",
   "id": "b27d9b1c",
   "metadata": {},
   "source": [
    "## f-score of the logistic classification is acceptable "
   ]
  },
  {
   "cell_type": "markdown",
   "id": "90d22c8a",
   "metadata": {},
   "source": [
    "I PREFER TO use another algorithm to improve F-Score"
   ]
  },
  {
   "cell_type": "markdown",
   "id": "fab73a26",
   "metadata": {},
   "source": [
    "Add More feature"
   ]
  },
  {
   "cell_type": "code",
   "execution_count": null,
   "id": "c654a73c",
   "metadata": {},
   "outputs": [],
   "source": []
  }
 ],
 "metadata": {
  "kernelspec": {
   "display_name": "Python 3",
   "language": "python",
   "name": "python3"
  },
  "language_info": {
   "codemirror_mode": {
    "name": "ipython",
    "version": 3
   },
   "file_extension": ".py",
   "mimetype": "text/x-python",
   "name": "python",
   "nbconvert_exporter": "python",
   "pygments_lexer": "ipython3",
   "version": "3.8.8"
  }
 },
 "nbformat": 4,
 "nbformat_minor": 5
}
